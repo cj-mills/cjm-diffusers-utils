{
 "cells": [
  {
   "cell_type": "code",
   "execution_count": null,
   "metadata": {},
   "outputs": [],
   "source": [
    "#| hide\n",
    "from cjm_diffusers_utils.core import *"
   ]
  },
  {
   "cell_type": "markdown",
   "metadata": {},
   "source": [
    "# cjm-diffusers-utils\n",
    "\n",
    "> Some utility functions I frequently use with 🤗 diffusers."
   ]
  },
  {
   "cell_type": "markdown",
   "metadata": {},
   "source": [
    "## Install"
   ]
  },
  {
   "cell_type": "markdown",
   "metadata": {},
   "source": [
    "```sh\n",
    "pip install cjm_diffusers_utils\n",
    "```"
   ]
  },
  {
   "cell_type": "markdown",
   "metadata": {},
   "source": [
    "## How to use"
   ]
  },
  {
   "cell_type": "code",
   "execution_count": null,
   "metadata": {},
   "outputs": [
    {
     "data": {
      "text/plain": [
       "('cuda', torch.float16)"
      ]
     },
     "execution_count": null,
     "metadata": {},
     "output_type": "execute_result"
    }
   ],
   "source": [
    "import torch\n",
    "from cjm_pytorch_utils.core import get_torch_device\n",
    "device = get_torch_device()\n",
    "dtype = torch.float16 if device == 'cuda' else torch.float16\n",
    "device, dtype"
   ]
  },
  {
   "cell_type": "markdown",
   "metadata": {},
   "source": [
    "### pil_to_latent"
   ]
  },
  {
   "cell_type": "code",
   "execution_count": null,
   "metadata": {},
   "outputs": [],
   "source": [
    "from cjm_diffusers_utils.core import pil_to_latent\n",
    "from PIL import Image\n",
    "from diffusers import AutoencoderKL"
   ]
  },
  {
   "cell_type": "code",
   "execution_count": null,
   "metadata": {},
   "outputs": [],
   "source": [
    "model_name = \"stabilityai/stable-diffusion-2-1\"\n",
    "vae = AutoencoderKL.from_pretrained(model_name, subfolder=\"vae\").to(device=device, dtype=dtype)"
   ]
  },
  {
   "cell_type": "code",
   "execution_count": null,
   "metadata": {},
   "outputs": [
    {
     "name": "stdout",
     "output_type": "stream",
     "text": [
      "Source Image Size: (768, 512)\n",
      "Latent Dimensions: torch.Size([1, 4, 64, 96])\n"
     ]
    }
   ],
   "source": [
    "img_path = img_path = '../images/cat.jpg'\n",
    "src_img = Image.open(img_path).convert('RGB')\n",
    "print(f\"Source Image Size: {src_img.size}\")\n",
    "\n",
    "img_latents = pil_to_latent(src_img, vae)\n",
    "print(f\"Latent Dimensions: {img_latents.shape}\")"
   ]
  },
  {
   "cell_type": "markdown",
   "metadata": {},
   "source": [
    "### latent_to_pil"
   ]
  },
  {
   "cell_type": "code",
   "execution_count": null,
   "metadata": {},
   "outputs": [],
   "source": [
    "from cjm_diffusers_utils.core import latent_to_pil"
   ]
  },
  {
   "cell_type": "code",
   "execution_count": null,
   "metadata": {},
   "outputs": [
    {
     "name": "stdout",
     "output_type": "stream",
     "text": [
      "Decoded Image Size: (768, 512)\n"
     ]
    }
   ],
   "source": [
    "decoded_img = latent_to_pil(img_latents, vae)\n",
    "print(f\"Decoded Image Size: {decoded_img.size}\")"
   ]
  },
  {
   "cell_type": "markdown",
   "metadata": {},
   "source": [
    "### text_to_emb"
   ]
  },
  {
   "cell_type": "code",
   "execution_count": null,
   "metadata": {},
   "outputs": [],
   "source": [
    "from cjm_diffusers_utils.core import text_to_emb\n",
    "from transformers import CLIPTextModel, CLIPTokenizer"
   ]
  },
  {
   "cell_type": "code",
   "execution_count": null,
   "metadata": {},
   "outputs": [],
   "source": [
    "# Load the tokenizer for the specified model\n",
    "tokenizer = CLIPTokenizer.from_pretrained(model_name, subfolder=\"tokenizer\")\n",
    "# Load the text encoder for the specified model\n",
    "text_encoder = CLIPTextModel.from_pretrained(model_name, subfolder=\"text_encoder\").to(device=device, dtype=dtype)"
   ]
  },
  {
   "cell_type": "code",
   "execution_count": null,
   "metadata": {},
   "outputs": [
    {
     "data": {
      "text/plain": [
       "torch.Size([2, 77, 1024])"
      ]
     },
     "execution_count": null,
     "metadata": {},
     "output_type": "execute_result"
    }
   ],
   "source": [
    "prompt = \"A cat sitting on the floor.\"\n",
    "text_emb = text_to_emb(prompt, tokenizer, text_encoder)\n",
    "text_emb.shape"
   ]
  },
  {
   "cell_type": "markdown",
   "metadata": {},
   "source": [
    "### prepare_noise_scheduler"
   ]
  },
  {
   "cell_type": "code",
   "execution_count": null,
   "metadata": {},
   "outputs": [],
   "source": [
    "from cjm_diffusers_utils.core import prepare_noise_scheduler\n",
    "from diffusers import DEISMultistepScheduler"
   ]
  },
  {
   "cell_type": "code",
   "execution_count": null,
   "metadata": {},
   "outputs": [
    {
     "name": "stdout",
     "output_type": "stream",
     "text": [
      "Number of timesteps: 1000\n",
      "tensor([999., 998., 997., 996., 995., 994., 993., 992., 991., 990.])\n",
      "Number of timesteps: 70\n",
      "tensor([999, 985, 970, 956, 942, 928, 913, 899, 885, 871])\n"
     ]
    }
   ],
   "source": [
    "noise_scheduler = DEISMultistepScheduler.from_pretrained(model_name, subfolder='scheduler')\n",
    "print(f\"Number of timesteps: {len(noise_scheduler.timesteps)}\")\n",
    "print(noise_scheduler.timesteps[:10])\n",
    "\n",
    "noise_scheduler = prepare_noise_scheduler(noise_scheduler, 70, 1.0)\n",
    "print(f\"Number of timesteps: {len(noise_scheduler.timesteps)}\")\n",
    "print(noise_scheduler.timesteps[:10])"
   ]
  },
  {
   "cell_type": "markdown",
   "metadata": {},
   "source": [
    "### prepare_depth_mask"
   ]
  },
  {
   "cell_type": "code",
   "execution_count": null,
   "metadata": {},
   "outputs": [],
   "source": [
    "from cjm_diffusers_utils.core import prepare_depth_mask"
   ]
  },
  {
   "cell_type": "code",
   "execution_count": null,
   "metadata": {},
   "outputs": [
    {
     "name": "stdout",
     "output_type": "stream",
     "text": [
      "Depth map size: (768, 512)\n"
     ]
    },
    {
     "data": {
      "text/plain": [
       "(torch.Size([1, 1, 64, 96]),\n",
       " tensor(-1., device='cuda:0', dtype=torch.float16),\n",
       " tensor(1., device='cuda:0', dtype=torch.float16))"
      ]
     },
     "execution_count": null,
     "metadata": {},
     "output_type": "execute_result"
    }
   ],
   "source": [
    "depth_map_path = '../images/depth-cat.png'\n",
    "depth_map = Image.open(depth_map_path)\n",
    "print(f\"Depth map size: {depth_map.size}\")\n",
    "\n",
    "depth_mask = prepare_depth_mask(depth_map).to(device=device, dtype=dtype)\n",
    "depth_mask.shape, depth_mask.min(), depth_mask.max()"
   ]
  },
  {
   "cell_type": "code",
   "execution_count": null,
   "metadata": {},
   "outputs": [],
   "source": []
  },
  {
   "cell_type": "code",
   "execution_count": null,
   "metadata": {},
   "outputs": [],
   "source": []
  },
  {
   "cell_type": "code",
   "execution_count": null,
   "metadata": {},
   "outputs": [],
   "source": []
  }
 ],
 "metadata": {
  "kernelspec": {
   "display_name": "Python 3 (ipykernel)",
   "language": "python",
   "name": "python3"
  }
 },
 "nbformat": 4,
 "nbformat_minor": 4
}
